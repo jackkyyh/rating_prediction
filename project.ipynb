{
 "cells": [
  {
   "cell_type": "code",
   "execution_count": 1,
   "metadata": {},
   "outputs": [
    {
     "name": "stdout",
     "output_type": "stream",
     "text": [
      "   Unnamed: 0      id  score  votes  year  TV  剧场版  漫画改  搞笑  原创  ...  喵帕斯  \\\n",
      "0           0  328561    7.0      2  2000   0    0    0   0   0  ...    0   \n",
      "1           1   28389    7.2    630  2000  86    0    0   0   6  ...    0   \n",
      "2           2   22956    6.3    198  2000   0    0   29   0   0  ...    0   \n",
      "3           3  112705    6.7      6  2000   0    1    0   2   0  ...    0   \n",
      "4           4  186592    6.9     17  2000   0    3    2   0   0  ...    0   \n",
      "\n",
      "   户松遥  山本宽  萌系  嘟嘟噜  SOS团  少女系  ZEXCS  Air  宅  \n",
      "0    0    0   0    0     0    0      0    0  0  \n",
      "1    0    0   0    0     0    0      0    0  0  \n",
      "2    0    0   0    0     0    0      0    0  0  \n",
      "3    0    0   0    0     0    0      0    0  0  \n",
      "4    0    0   0    0     0    0      0    0  0  \n",
      "\n",
      "[5 rows x 408 columns]\n"
     ]
    }
   ],
   "source": [
    "import pandas as pd\n",
    "\n",
    "# 加载数据集\n",
    "data = pd.read_csv('data.csv')\n",
    "print(data.head())"
   ]
  },
  {
   "cell_type": "code",
   "execution_count": 2,
   "metadata": {},
   "outputs": [
    {
     "name": "stdout",
     "output_type": "stream",
     "text": [
      "   Unnamed: 0      id  score     votes  year        TV       剧场版       漫画改  \\\n",
      "0           0  328561   0.70  0.000081   0.0  0.000000  0.000000  0.000000   \n",
      "1           1   28389   0.72  0.025361   0.0  0.050146  0.000000  0.000000   \n",
      "2           2   22956   0.63  0.007971   0.0  0.000000  0.000000  0.012603   \n",
      "3           3  112705   0.67  0.000242   0.0  0.000000  0.000218  0.000000   \n",
      "4           4  186592   0.69  0.000684   0.0  0.000000  0.000653  0.000869   \n",
      "\n",
      "         搞笑        原创  ...  喵帕斯  户松遥  山本宽   萌系  嘟嘟噜  SOS团  少女系  ZEXCS  Air  \\\n",
      "0  0.000000  0.000000  ...  0.0  0.0  0.0  0.0  0.0   0.0  0.0    0.0  0.0   \n",
      "1  0.000000  0.001646  ...  0.0  0.0  0.0  0.0  0.0   0.0  0.0    0.0  0.0   \n",
      "2  0.000000  0.000000  ...  0.0  0.0  0.0  0.0  0.0   0.0  0.0    0.0  0.0   \n",
      "3  0.000484  0.000000  ...  0.0  0.0  0.0  0.0  0.0   0.0  0.0    0.0  0.0   \n",
      "4  0.000000  0.000000  ...  0.0  0.0  0.0  0.0  0.0   0.0  0.0    0.0  0.0   \n",
      "\n",
      "     宅  \n",
      "0  0.0  \n",
      "1  0.0  \n",
      "2  0.0  \n",
      "3  0.0  \n",
      "4  0.0  \n",
      "\n",
      "[5 rows x 408 columns]\n"
     ]
    }
   ],
   "source": [
    "# 对 'score' 进行正则化\n",
    "data['score'] = data['score'] / 10.0\n",
    "\n",
    "# 对 'votes' 使用最大值进行标准化\n",
    "votes_max = data['votes'].max()\n",
    "data['votes'] = data['votes'] / votes_max\n",
    "\n",
    "# 对年份进行 Min-Max Scaling 正则化\n",
    "year_min = data['year'].min()\n",
    "year_max = data['year'].max()\n",
    "data['year'] = (data['year'] - year_min) / (year_max - year_min)\n",
    "\n",
    "# 对标签进行正则化 - 使用每列的最大值进行标准化\n",
    "for column in data.columns[5:]:  # 假设从第六列开始为标签列\n",
    "    max_value = data[column].max()\n",
    "    if max_value > 0:\n",
    "        data[column] = data[column] / max_value\n",
    "\n",
    "# 显示正则化后的数据集的前几行\n",
    "print(data.head())"
   ]
  },
  {
   "cell_type": "code",
   "execution_count": 3,
   "metadata": {},
   "outputs": [
    {
     "name": "stdout",
     "output_type": "stream",
     "text": [
      "(8949, 404) (8949, 2)\n",
      "(1119, 404) (1119, 2)\n",
      "(1119, 404) (1119, 2)\n"
     ]
    }
   ],
   "source": [
    "from sklearn.model_selection import train_test_split\n",
    "\n",
    "X, y = data.iloc[:, 4:], data.iloc[:, 2:4]\n",
    "# X 和 y 已经被定义为特征和目标\n",
    "# 分割比例：训练集80%，验证集10%，测试集10%\n",
    "\n",
    "# 首先，分割出训练集（80%）\n",
    "X_train, X_temp, y_train, y_temp = train_test_split(X, y, test_size=0.2, random_state=42)\n",
    "\n",
    "# 接着，将剩余的20%数据再分为验证集和测试集（各占原始数据集的10%）\n",
    "X_val, X_test, y_val, y_test = train_test_split(X_temp, y_temp, test_size=0.5, random_state=42)\n",
    "\n",
    "# 现在，X_train, y_train 是训练集\n",
    "# X_val, y_val 是验证集\n",
    "# X_test, y_test 是测试集\n",
    "\n",
    "print(X_train.shape, y_train.shape)\n",
    "print(X_val.shape, y_val.shape)\n",
    "print(X_test.shape, y_test.shape)\n"
   ]
  },
  {
   "cell_type": "code",
   "execution_count": 5,
   "metadata": {},
   "outputs": [],
   "source": [
    "import torch\n",
    "import torch.nn as nn\n",
    "import torch.optim as optim\n",
    "\n",
    "class DNN(nn.Module):\n",
    "    def __init__(self, input_size, output_size):\n",
    "        super(DNN, self).__init__()\n",
    "        self.fc1 = nn.Linear(input_size, 256)  # 第一个隐藏层\n",
    "        self.fc2 = nn.Linear(256, 128)         # 第二个隐藏层\n",
    "        self.fc3 = nn.Linear(128, 64)          # 第三个隐藏层\n",
    "        self.fc4 = nn.Linear(64, 32)           # 第四个隐藏层\n",
    "        self.output = nn.Linear(32, output_size)  # 输出层\n",
    "\n",
    "        self.relu = nn.ReLU()\n",
    "\n",
    "    def forward(self, x):\n",
    "        x = self.relu(self.fc1(x))\n",
    "        x = self.relu(self.fc2(x))\n",
    "        x = self.relu(self.fc3(x))\n",
    "        x = self.relu(self.fc4(x))\n",
    "        x = torch.sigmoid(self.output(x))  # 应用Sigmoid激活函数\n",
    "        return x\n",
    "\n",
    "# 创建模型实例时使用动态大小\n",
    "model = DNN(X_train.shape[1], y_train.shape[1])\n",
    "\n",
    "# 定义损失函数和优化器\n",
    "criterion = nn.MSELoss()  # 均方误差损失，适合回归问题\n",
    "optimizer = optim.Adam(model.parameters(), lr=0.001, weight_decay=1e-5)  # L2 正则化"
   ]
  },
  {
   "cell_type": "code",
   "execution_count": 6,
   "metadata": {},
   "outputs": [],
   "source": [
    "num_epochs = 100  # 训练的轮数\n",
    "batch_size = 128   # 批量大小\n",
    "\n",
    "# 将 DataFrame 转换为 NumPy 数组\n",
    "X_train_np = X_train.values\n",
    "y_train_np = y_train.values\n",
    "X_val_np = X_val.values\n",
    "y_val_np = y_val.values\n",
    "X_test_np = X_test.values\n",
    "y_test_np = y_test.values\n",
    "\n",
    "# 将 NumPy 数组转换为 PyTorch Tensor\n",
    "X_train_tensor = torch.tensor(X_train_np, dtype=torch.float32)\n",
    "y_train_tensor = torch.tensor(y_train_np, dtype=torch.float32)\n",
    "X_val_tensor = torch.tensor(X_val_np, dtype=torch.float32)\n",
    "y_val_tensor = torch.tensor(y_val_np, dtype=torch.float32)\n",
    "X_test_tensor = torch.tensor(X_test_np, dtype=torch.float32)\n",
    "y_test_tensor = torch.tensor(y_test_np, dtype=torch.float32)\n",
    "\n",
    "# 将数据集转换为 DataLoader，以便批处理和洗牌\n",
    "train_data = torch.utils.data.TensorDataset(X_train_tensor , y_train_tensor)\n",
    "train_loader = torch.utils.data.DataLoader(dataset=train_data, batch_size=batch_size, shuffle=True)\n",
    "val_data = torch.utils.data.TensorDataset(X_val_tensor, y_val_tensor)\n",
    "val_loader = torch.utils.data.DataLoader(dataset=val_data, batch_size=batch_size)\n",
    "test_data = torch.utils.data.TensorDataset(X_test_tensor, y_test_tensor)\n",
    "test_loader = torch.utils.data.DataLoader(dataset=test_data, batch_size=batch_size)"
   ]
  },
  {
   "cell_type": "code",
   "execution_count": 75,
   "metadata": {},
   "outputs": [
    {
     "name": "stdout",
     "output_type": "stream",
     "text": [
      "Epoch [1/100], Training Loss: 0.0485, Validation Loss: 0.0097\n",
      "Epoch [2/100], Training Loss: 0.0091, Validation Loss: 0.0091\n",
      "Epoch [3/100], Training Loss: 0.0081, Validation Loss: 0.0081\n",
      "Epoch [4/100], Training Loss: 0.0075, Validation Loss: 0.0077\n",
      "Epoch [5/100], Training Loss: 0.0068, Validation Loss: 0.0063\n",
      "Epoch [6/100], Training Loss: 0.0055, Validation Loss: 0.0059\n",
      "Epoch [7/100], Training Loss: 0.0053, Validation Loss: 0.0056\n",
      "Epoch [8/100], Training Loss: 0.0050, Validation Loss: 0.0056\n",
      "Epoch [9/100], Training Loss: 0.0050, Validation Loss: 0.0057\n",
      "Epoch [10/100], Training Loss: 0.0050, Validation Loss: 0.0056\n",
      "Epoch [11/100], Training Loss: 0.0050, Validation Loss: 0.0056\n",
      "Epoch [12/100], Training Loss: 0.0049, Validation Loss: 0.0055\n",
      "Epoch [13/100], Training Loss: 0.0049, Validation Loss: 0.0056\n",
      "Epoch [14/100], Training Loss: 0.0048, Validation Loss: 0.0055\n",
      "Epoch [15/100], Training Loss: 0.0048, Validation Loss: 0.0055\n",
      "Epoch [16/100], Training Loss: 0.0048, Validation Loss: 0.0055\n",
      "Epoch [17/100], Training Loss: 0.0048, Validation Loss: 0.0055\n",
      "Epoch [18/100], Training Loss: 0.0047, Validation Loss: 0.0054\n",
      "Epoch [19/100], Training Loss: 0.0047, Validation Loss: 0.0054\n",
      "Epoch [20/100], Training Loss: 0.0047, Validation Loss: 0.0054\n",
      "Epoch [21/100], Training Loss: 0.0047, Validation Loss: 0.0054\n",
      "Epoch [22/100], Training Loss: 0.0048, Validation Loss: 0.0054\n",
      "Epoch [23/100], Training Loss: 0.0047, Validation Loss: 0.0053\n",
      "Epoch [24/100], Training Loss: 0.0047, Validation Loss: 0.0055\n",
      "Epoch [25/100], Training Loss: 0.0047, Validation Loss: 0.0053\n",
      "Epoch [26/100], Training Loss: 0.0047, Validation Loss: 0.0054\n",
      "Epoch [27/100], Training Loss: 0.0048, Validation Loss: 0.0053\n",
      "Epoch [28/100], Training Loss: 0.0047, Validation Loss: 0.0055\n",
      "Epoch [29/100], Training Loss: 0.0046, Validation Loss: 0.0055\n",
      "Epoch [30/100], Training Loss: 0.0046, Validation Loss: 0.0056\n",
      "Epoch [31/100], Training Loss: 0.0047, Validation Loss: 0.0053\n",
      "Epoch [32/100], Training Loss: 0.0046, Validation Loss: 0.0054\n",
      "Epoch [33/100], Training Loss: 0.0046, Validation Loss: 0.0053\n",
      "Epoch [34/100], Training Loss: 0.0046, Validation Loss: 0.0053\n",
      "Epoch [35/100], Training Loss: 0.0046, Validation Loss: 0.0053\n",
      "Epoch [36/100], Training Loss: 0.0045, Validation Loss: 0.0054\n",
      "Epoch [37/100], Training Loss: 0.0045, Validation Loss: 0.0053\n",
      "Epoch [38/100], Training Loss: 0.0045, Validation Loss: 0.0052\n",
      "Epoch [39/100], Training Loss: 0.0045, Validation Loss: 0.0053\n",
      "Epoch [40/100], Training Loss: 0.0045, Validation Loss: 0.0053\n",
      "Epoch [41/100], Training Loss: 0.0045, Validation Loss: 0.0053\n",
      "Epoch [42/100], Training Loss: 0.0045, Validation Loss: 0.0052\n",
      "Epoch [43/100], Training Loss: 0.0044, Validation Loss: 0.0052\n",
      "Epoch [44/100], Training Loss: 0.0044, Validation Loss: 0.0052\n",
      "Epoch [45/100], Training Loss: 0.0044, Validation Loss: 0.0052\n",
      "Epoch [46/100], Training Loss: 0.0044, Validation Loss: 0.0053\n",
      "Epoch [47/100], Training Loss: 0.0044, Validation Loss: 0.0052\n",
      "Epoch [48/100], Training Loss: 0.0044, Validation Loss: 0.0053\n",
      "Epoch [49/100], Training Loss: 0.0044, Validation Loss: 0.0055\n",
      "Epoch [50/100], Training Loss: 0.0044, Validation Loss: 0.0051\n",
      "Epoch [51/100], Training Loss: 0.0044, Validation Loss: 0.0053\n",
      "Epoch [52/100], Training Loss: 0.0044, Validation Loss: 0.0054\n",
      "Epoch [53/100], Training Loss: 0.0043, Validation Loss: 0.0051\n",
      "Epoch [54/100], Training Loss: 0.0043, Validation Loss: 0.0051\n",
      "Epoch [55/100], Training Loss: 0.0044, Validation Loss: 0.0056\n",
      "Epoch [56/100], Training Loss: 0.0043, Validation Loss: 0.0051\n",
      "Epoch [57/100], Training Loss: 0.0043, Validation Loss: 0.0051\n",
      "Epoch [58/100], Training Loss: 0.0042, Validation Loss: 0.0054\n",
      "Epoch [59/100], Training Loss: 0.0042, Validation Loss: 0.0050\n",
      "Epoch [60/100], Training Loss: 0.0042, Validation Loss: 0.0051\n",
      "Epoch [61/100], Training Loss: 0.0042, Validation Loss: 0.0051\n",
      "Epoch [62/100], Training Loss: 0.0042, Validation Loss: 0.0051\n",
      "Epoch [63/100], Training Loss: 0.0042, Validation Loss: 0.0050\n",
      "Epoch [64/100], Training Loss: 0.0042, Validation Loss: 0.0050\n",
      "Epoch [65/100], Training Loss: 0.0042, Validation Loss: 0.0051\n",
      "Epoch [66/100], Training Loss: 0.0042, Validation Loss: 0.0050\n",
      "Epoch [67/100], Training Loss: 0.0043, Validation Loss: 0.0055\n",
      "Epoch [68/100], Training Loss: 0.0041, Validation Loss: 0.0051\n",
      "Epoch [69/100], Training Loss: 0.0042, Validation Loss: 0.0050\n",
      "Epoch [70/100], Training Loss: 0.0042, Validation Loss: 0.0053\n",
      "Epoch [71/100], Training Loss: 0.0041, Validation Loss: 0.0051\n",
      "Epoch [72/100], Training Loss: 0.0041, Validation Loss: 0.0050\n",
      "Epoch [73/100], Training Loss: 0.0041, Validation Loss: 0.0051\n",
      "Epoch [74/100], Training Loss: 0.0041, Validation Loss: 0.0050\n",
      "Epoch [75/100], Training Loss: 0.0041, Validation Loss: 0.0055\n",
      "Epoch [76/100], Training Loss: 0.0041, Validation Loss: 0.0051\n",
      "Epoch [77/100], Training Loss: 0.0041, Validation Loss: 0.0050\n",
      "Epoch [78/100], Training Loss: 0.0041, Validation Loss: 0.0051\n",
      "Epoch [79/100], Training Loss: 0.0042, Validation Loss: 0.0051\n",
      "Epoch [80/100], Training Loss: 0.0040, Validation Loss: 0.0051\n",
      "Epoch [81/100], Training Loss: 0.0040, Validation Loss: 0.0051\n",
      "Epoch [82/100], Training Loss: 0.0041, Validation Loss: 0.0051\n",
      "Epoch [83/100], Training Loss: 0.0040, Validation Loss: 0.0052\n",
      "Early stopping: Epoch 83\n"
     ]
    }
   ],
   "source": [
    "# 初始化损失值列表\n",
    "train_loss_values = []\n",
    "val_loss_values = []\n",
    "\n",
    "patience = 10  # 容忍的无改进epoch数\n",
    "best_val_loss = float('inf')\n",
    "counter = 0\n",
    "\n",
    "for epoch in range(num_epochs):\n",
    "    # 训练阶段\n",
    "    model.train()  # 设置模型为训练模式\n",
    "    total_train_loss = 0\n",
    "    for inputs, labels in train_loader:\n",
    "        # 前向传播\n",
    "        outputs = model(inputs)\n",
    "        loss = criterion(outputs, labels)\n",
    "\n",
    "        # 后向传播和优化\n",
    "        optimizer.zero_grad()\n",
    "        loss.backward()\n",
    "        optimizer.step()\n",
    "\n",
    "        total_train_loss += loss.item()\n",
    "\n",
    "    avg_train_loss = total_train_loss / len(train_loader)\n",
    "    train_loss_values.append(avg_train_loss)\n",
    "\n",
    "    # 验证阶段\n",
    "    model.eval()  # 设置模型为评估模式\n",
    "    total_val_loss = 0\n",
    "    with torch.no_grad():\n",
    "        for inputs, labels in val_loader:\n",
    "            outputs = model(inputs)\n",
    "            val_loss = criterion(outputs, labels)\n",
    "            total_val_loss += val_loss.item()\n",
    "\n",
    "    avg_val_loss = total_val_loss / len(val_loader)\n",
    "    val_loss_values.append(avg_val_loss)\n",
    "\n",
    "    # 检查是否有改进\n",
    "    if avg_val_loss < best_val_loss:\n",
    "        best_val_loss = avg_val_loss\n",
    "        counter = 0\n",
    "    else:\n",
    "        counter += 1\n",
    "\n",
    "    if counter >= patience:\n",
    "        print(f'Early stopping: Epoch {epoch}')\n",
    "        break\n",
    "    \n",
    "    print(f'Epoch [{epoch+1}/{num_epochs}], '\n",
    "          f'Training Loss: {avg_train_loss:.4f}, '\n",
    "          f'Validation Loss: {avg_val_loss:.4f}')\n"
   ]
  },
  {
   "cell_type": "code",
   "execution_count": 113,
   "metadata": {},
   "outputs": [],
   "source": [
    "# # 保存 DNN 模型参数\n",
    "# torch.save(model.state_dict(), 'dnn_model.pth')"
   ]
  },
  {
   "cell_type": "code",
   "execution_count": null,
   "metadata": {},
   "outputs": [],
   "source": [
    "# # 重新创建模型实例\n",
    "# model = DNN(input_size, output_size)\n",
    "# # 加载之前保存的参数\n",
    "# model.load_state_dict(torch.load('dnn_model.pth'))"
   ]
  },
  {
   "cell_type": "code",
   "execution_count": 118,
   "metadata": {},
   "outputs": [],
   "source": [
    "# # 将验证损失保存为文本文件\n",
    "# with open('dnn_train_loss.txt', 'w') as f:\n",
    "#     for loss in train_loss_values:\n",
    "#         f.write(f\"{loss}\\n\")\n",
    "\n",
    "# with open('dnn_val_loss.txt', 'w') as f:\n",
    "#     for loss in val_loss_values:\n",
    "#         f.write(f\"{loss}\\n\")"
   ]
  },
  {
   "cell_type": "code",
   "execution_count": null,
   "metadata": {},
   "outputs": [],
   "source": [
    "# # 使用文本文件加载\n",
    "# with open('dnn_train_loss.txt', 'r') as f:\n",
    "#     train_loss_values = [float(line.strip()) for line in f]\n",
    "\n",
    "# with open('dnn_val_loss.txt', 'r') as f:\n",
    "#     val_loss_values = [float(line.strip()) for line in f]"
   ]
  },
  {
   "cell_type": "code",
   "execution_count": 77,
   "metadata": {},
   "outputs": [
    {
     "data": {
      "image/png": "[encoded data removed]",
      "text/plain": [
       "<Figure size 1000x500 with 1 Axes>"
      ]
     },
     "metadata": {},
     "output_type": "display_data"
    }
   ],
   "source": [
    "import matplotlib.pyplot as plt\n",
    "\n",
    "# 绘制训练和验证损失曲线\n",
    "plt.figure(figsize=(10, 5))\n",
    "plt.plot(train_loss_values[1:], label='Training Loss', marker='o', linestyle='-', color='b')\n",
    "plt.plot(val_loss_values[1:], label='Validation Loss', marker='x', linestyle='--', color='r')\n",
    "plt.title('Training and Validation Loss Per Epoch')\n",
    "plt.xlabel('Epoch')\n",
    "plt.ylabel('Loss')\n",
    "plt.legend()\n",
    "plt.grid(True)\n",
    "plt.show()"
   ]
  },
  {
   "cell_type": "code",
   "execution_count": 78,
   "metadata": {},
   "outputs": [
    {
     "name": "stdout",
     "output_type": "stream",
     "text": [
      "Test Loss: 0.0048\n"
     ]
    }
   ],
   "source": [
    "# 测试模型\n",
    "model.eval()  # 设置模型为评估模式\n",
    "total_test_loss = 0\n",
    "with torch.no_grad():\n",
    "    for inputs, labels in test_loader:\n",
    "        outputs = model(inputs)\n",
    "        test_loss = criterion(outputs, labels)\n",
    "        total_test_loss += test_loss.item()\n",
    "\n",
    "avg_test_loss = total_test_loss / len(test_loader)\n",
    "\n",
    "print(f'Test Loss: {avg_test_loss:.4f}')"
   ]
  },
  {
   "cell_type": "code",
   "execution_count": 7,
   "metadata": {},
   "outputs": [
    {
     "name": "stdout",
     "output_type": "stream",
     "text": [
      "Random Loss: 0.2099\n"
     ]
    }
   ],
   "source": [
    "import numpy as np\n",
    "# 随机猜测模型\n",
    "def random_guess_model(X, min_val, max_val):\n",
    "    \"\"\" 对于每个输入样本随机生成两个预测值。\"\"\"\n",
    "    random_predictions_1 = np.random.uniform(min_val, max_val, X.shape[0])\n",
    "    random_predictions_2 = np.random.uniform(min_val, max_val, X.shape[0])\n",
    "    return np.stack((random_predictions_1, random_predictions_2), axis=1)\n",
    "\n",
    "# 计算随机猜测模型的损失\n",
    "random_loss = criterion(torch.tensor(random_guess_model(X_test_np, 0, 1)), y_test_tensor)\n",
    "print(f'Random Loss: {random_loss:.4f}') "
   ]
  },
  {
   "cell_type": "code",
   "execution_count": 110,
   "metadata": {},
   "outputs": [],
   "source": [
    "# 线性模型\n",
    "class LinearModel(nn.Module):\n",
    "    def __init__(self, input_size, output_size):\n",
    "        super(LinearModel, self).__init__()\n",
    "        self.linear = nn.Linear(input_size, output_size)\n",
    "\n",
    "    def forward(self, x):\n",
    "        return self.linear(x)\n",
    "\n",
    "# 创建线性模型实例\n",
    "linear_model = LinearModel(X_train.shape[1], y_train.shape[1])\n",
    "\n",
    "# 可以使用相同的损失函数和优化器\n",
    "# 如果需要，也可以为线性模型选择不同的优化器或学习率\n",
    "linear_optimizer = optim.Adam(linear_model.parameters(), lr=0.001, weight_decay=1e-5)"
   ]
  },
  {
   "cell_type": "code",
   "execution_count": 111,
   "metadata": {},
   "outputs": [],
   "source": [
    "num_epochs = 100  # 训练轮数\n",
    "batch_size = 128   # 批量大小\n",
    "\n",
    "# 创建数据加载器\n",
    "\n",
    "for epoch in range(num_epochs):\n",
    "    for i, (inputs, labels) in enumerate(train_loader):\n",
    "        # 前向传播\n",
    "        outputs = linear_model(inputs)\n",
    "        loss = criterion(outputs, labels)\n",
    "\n",
    "        # 后向传播和优化\n",
    "        linear_optimizer.zero_grad()\n",
    "        loss.backward()\n",
    "        linear_optimizer.step()\n",
    "\n",
    "        if (i + 1) % 100 == 0:\n",
    "            print(f'Epoch [{epoch+1}/{num_epochs}], Step [{i+1}/{len(train_loader)}], Loss: {loss.item():.4f}')\n"
   ]
  },
  {
   "cell_type": "code",
   "execution_count": 114,
   "metadata": {},
   "outputs": [],
   "source": [
    "# # 保存线性模型参数\n",
    "# torch.save(linear_model.state_dict(), 'linear_model.pth')"
   ]
  },
  {
   "cell_type": "code",
   "execution_count": null,
   "metadata": {},
   "outputs": [],
   "source": [
    "# # 重新创建模型实例\n",
    "# linear_model = LinearModel(input_size, output_size)\n",
    "\n",
    "# # 加载之前保存的参数\n",
    "# linear_model.load_state_dict(torch.load('linear_model.pth'))"
   ]
  },
  {
   "cell_type": "code",
   "execution_count": 112,
   "metadata": {},
   "outputs": [
    {
     "name": "stdout",
     "output_type": "stream",
     "text": [
      "Test Loss: 0.0055\n"
     ]
    }
   ],
   "source": [
    "linear_model.eval()  # 设置模型为评估模式\n",
    "total_test_loss = 0\n",
    "with torch.no_grad():\n",
    "    for inputs, labels in test_loader:\n",
    "        outputs = linear_model(inputs)\n",
    "        test_loss = criterion(outputs, labels)\n",
    "        total_test_loss += test_loss.item()\n",
    "\n",
    "avg_test_loss = total_test_loss / len(test_loader)\n",
    "print(f'Test Loss: {avg_test_loss:.4f}')"
   ]
  }
 ],
 "metadata": {
  "kernelspec": {
   "display_name": "mlproject",
   "language": "python",
   "name": "python3"
  },
  "language_info": {
   "codemirror_mode": {
    "name": "ipython",
    "version": 3
   },
   "file_extension": ".py",
   "mimetype": "text/x-python",
   "name": "python",
   "nbconvert_exporter": "python",
   "pygments_lexer": "ipython3",
   "version": "3.10.13"
  }
 },
 "nbformat": 4,
 "nbformat_minor": 2
}
