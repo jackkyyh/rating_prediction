{
  "nbformat": 4,
  "nbformat_minor": 0,
  "metadata": {
    "colab": {
      "provenance": []
    },
    "kernelspec": {
      "name": "python3",
      "display_name": "Python 3"
    },
    "language_info": {
      "name": "python"
    }
  },
  "cells": [
    {
      "cell_type": "code",
      "execution_count": null,
      "metadata": {
        "id": "18bhB4nb91XA"
      },
      "outputs": [],
      "source": [
        "from bs4 import BeautifulSoup\n",
        "import requests\n",
        "import re\n",
        "\n",
        "from multiprocessing import Pool\n",
        "\n",
        "import numpy as np\n",
        "import pandas as pd"
      ]
    },
    {
      "cell_type": "code",
      "source": [
        "header = {\"User-Agent\": \"Mozilla/5.0 (Windows NT 10.0; Win64; x64) AppleWebKit/537.36 (KHTML, like Gecko) Chrome/76.0.3809.100 Safari/537.36\"}"
      ],
      "metadata": {
        "id": "EhWtSRCP-Y8q"
      },
      "execution_count": null,
      "outputs": []
    },
    {
      "cell_type": "markdown",
      "source": [
        "# Collect all tags"
      ],
      "metadata": {
        "id": "PdD43GWTLs1L"
      }
    },
    {
      "cell_type": "code",
      "source": [
        "url = \"https://bangumi.tv/anime/tag?page=\"\n",
        "\n",
        "tags = []\n",
        "for idx in range(1, 9):\n",
        "  res = requests.get(url+str(idx), headers=header)\n",
        "  res.encoding = 'utf-8'\n",
        "  soup = BeautifulSoup(res.text, \"html.parser\")\n",
        "  tags += soup.find('div', {'id': 'tagList'}).findChildren('a')\n",
        "\n",
        "tags = [t.text for t in tags[:500]]"
      ],
      "metadata": {
        "id": "13us-xeC7d6_"
      },
      "execution_count": null,
      "outputs": []
    },
    {
      "cell_type": "code",
      "source": [
        "TAGS = list(filter(lambda t: re.search(r'\\d{4}', t) is None, tags))"
      ],
      "metadata": {
        "id": "q7BcY2xD-PuC"
      },
      "execution_count": null,
      "outputs": []
    },
    {
      "cell_type": "code",
      "source": [
        "print(len(TAGS))"
      ],
      "metadata": {
        "id": "W_y_0pPZH6Fh",
        "outputId": "f17a38d7-06ea-46a5-e9a4-9715dec89c44",
        "colab": {
          "base_uri": "https://localhost:8080/"
        }
      },
      "execution_count": null,
      "outputs": [
        {
          "output_type": "stream",
          "name": "stdout",
          "text": [
            "500\n"
          ]
        }
      ]
    },
    {
      "cell_type": "markdown",
      "source": [
        "# Collect all subjects"
      ],
      "metadata": {
        "id": "jjdgQBimL63V"
      }
    },
    {
      "cell_type": "code",
      "source": [
        "def get_per_item(item_id, year):\n",
        "  url = \"https://bangumi.tv/subject/\" + item_id\n",
        "  res = requests.get(url, headers=header)\n",
        "  res.encoding = 'utf-8'\n",
        "  soup = BeautifulSoup(res.text, \"html.parser\")\n",
        "  item_tags = soup.find('div', class_='subject_tag_section')\n",
        "  if item_tags is None:\n",
        "    return\n",
        "  item_tags = item_tags.findChildren('a')\n",
        "  item_tag_dic = {}\n",
        "  for tag in item_tags:\n",
        "    if tag.attrs['href'] == 'javascript:void(0)':\n",
        "      continue\n",
        "    if tag.contents[0].text not in TAGS:\n",
        "      continue\n",
        "    item_tag_dic[tag.contents[0].text] = tag.contents[2].text\n",
        "\n",
        "  if len(item_tag_dic) > 0:\n",
        "    score = soup.find('div', class_='global_score').find('span', {'class': 'number'}).text\n",
        "    if(score == '0.0'):\n",
        "      return\n",
        "    item_tag_dic['score'] = score\n",
        "    item_tag_dic['id'] = item_id\n",
        "    item_tag_dic['year'] = year\n",
        "    item_tag_dic['votes'] = soup.find('span', {'property': 'v:votes'}).text\n",
        "\n",
        "    return item_tag_dic"
      ],
      "metadata": {
        "id": "_-Pn9c8GYF5e"
      },
      "execution_count": null,
      "outputs": []
    },
    {
      "cell_type": "code",
      "source": [
        "def get_per_page(page_num, year):\n",
        "  url = \"https://bangumi.tv/anime/browser/airtime/\"\n",
        "  res = requests.get(f\"{url}{year}?page={page_num}\", headers=header)\n",
        "  res.encoding = 'utf-8'\n",
        "  soup = BeautifulSoup(res.text, \"html.parser\")\n",
        "  items = soup.find('ul', {'id': 'browserItemList'}).findChildren('li')\n",
        "\n",
        "  all_res = []\n",
        "\n",
        "  for item in items:\n",
        "    item_id = item.find(\"a\", {\"class\": \"subjectCover cover ll\"})[\"href\"][9:]\n",
        "    res = get_per_item(item_id, year)\n",
        "    if res is not None:\n",
        "      all_res.append(res)\n",
        "  return all_res"
      ],
      "metadata": {
        "id": "jdEq8fnsbavm"
      },
      "execution_count": null,
      "outputs": []
    },
    {
      "cell_type": "code",
      "source": [
        "def get_max_page(year):\n",
        "  url = \"https://bangumi.tv/anime/browser/airtime/\"\n",
        "\n",
        "  res = requests.get(url+str(year), headers=header)\n",
        "  res.encoding = 'utf-8'\n",
        "  soup = BeautifulSoup(res.text, \"html.parser\")\n",
        "\n",
        "  max_page = soup.find('span', {'class': 'p_edge'}).text\n",
        "  max_page = int(re.match(\"\\(\\xa0\\d+\\xa0/\\xa0(\\d+)\\xa0\\)\", max_page).group(1))\n",
        "  return year, max_page"
      ],
      "metadata": {
        "id": "vqEO3cdvidH0"
      },
      "execution_count": null,
      "outputs": []
    },
    {
      "cell_type": "code",
      "source": [
        "with Pool(10) as p:\n",
        "  max_page_by_year = p.map(get_max_page, range(2000, 2023))\n",
        "print(max_page_by_year)"
      ],
      "metadata": {
        "colab": {
          "base_uri": "https://localhost:8080/"
        },
        "id": "yvVbrbnYfBMg",
        "outputId": "009ffd6a-bfda-495a-9cea-d8085a68cbfd"
      },
      "execution_count": null,
      "outputs": [
        {
          "output_type": "stream",
          "name": "stdout",
          "text": [
            "[(2000, 11), (2001, 16), (2002, 14), (2003, 16), (2004, 16), (2005, 17), (2006, 20), (2007, 20), (2008, 19), (2009, 22), (2010, 24), (2011, 28), (2012, 30), (2013, 32), (2014, 35), (2015, 35), (2016, 42), (2017, 44), (2018, 41), (2019, 42), (2020, 41), (2021, 44), (2022, 47)]\n"
          ]
        }
      ]
    },
    {
      "cell_type": "code",
      "source": [
        "args = [(page, year) for (year, max_page) in max_page_by_year\n",
        "        for page in range(1, max_page+1)]\n",
        "\n",
        "with Pool(30) as p:\n",
        "  all_res = p.starmap(get_per_page, args)\n",
        "\n",
        "all_res = [res for res_list in all_res for res in res_list]\n",
        "print(f\"Retrieved {len(all_res)} items\")"
      ],
      "metadata": {
        "id": "y-Qu5g73hQTe",
        "colab": {
          "base_uri": "https://localhost:8080/"
        },
        "outputId": "4a8defff-78bb-4472-9cc2-04b24ac65dcb"
      },
      "execution_count": null,
      "outputs": [
        {
          "output_type": "stream",
          "name": "stdout",
          "text": [
            "Retrieved 11187 items\n"
          ]
        }
      ]
    },
    {
      "cell_type": "code",
      "source": [
        "df = pd.DataFrame(all_res, columns=['id', 'score', 'votes', 'year'] + TAGS).fillna(0)\n",
        "df.to_csv(\"data.csv\")"
      ],
      "metadata": {
        "id": "B3snaBvCU2l4"
      },
      "execution_count": null,
      "outputs": []
    },
    {
      "cell_type": "code",
      "source": [
        "from numpy import genfromtxt\n",
        "\n",
        "data = genfromtxt('data.csv', delimiter=',')"
      ],
      "metadata": {
        "id": "msLKhdOBqrPP"
      },
      "execution_count": null,
      "outputs": []
    },
    {
      "cell_type": "code",
      "source": [
        "df = pd.read_csv('data.csv')"
      ],
      "metadata": {
        "id": "89acD7DMl2ww"
      },
      "execution_count": null,
      "outputs": []
    },
    {
      "cell_type": "code",
      "source": [
        "entry = df.loc[10991]\n",
        "entry[entry > 0]"
      ],
      "metadata": {
        "colab": {
          "base_uri": "https://localhost:8080/"
        },
        "id": "pQe069j5mCJ_",
        "outputId": "26f24883-8325-43e0-a83c-c000e52f1589"
      },
      "execution_count": null,
      "outputs": [
        {
          "output_type": "execute_result",
          "data": {
            "text/plain": [
              "Unnamed: 0      10991.0\n",
              "id             331480.0\n",
              "score               7.6\n",
              "votes            4383.0\n",
              "year             2022.0\n",
              "TV                679.0\n",
              "漫画改               888.0\n",
              "百合                920.0\n",
              "漫改                401.0\n",
              "校园                860.0\n",
              "治愈                603.0\n",
              "日常               1012.0\n",
              "青春                305.0\n",
              "CloverWorks      1415.0\n",
              "日本                 11.0\n",
              "日本动画                9.0\n",
              "动画                  6.0\n",
              "轻百合                53.0\n",
              "TVA                 9.0\n",
              "少女                 31.0\n",
              "Name: 10991, dtype: float64"
            ]
          },
          "metadata": {},
          "execution_count": 16
        }
      ]
    },
    {
      "cell_type": "code",
      "source": [
        "# filter(lambda i: i.find('img')[\"src\"] != \"/img/no_icon_subject.png\", items)"
      ],
      "metadata": {
        "colab": {
          "base_uri": "https://localhost:8080/"
        },
        "id": "RbPrXT7HCOX1",
        "outputId": "4d5c85fd-56c9-45ec-cc0c-e91d9cf14d58"
      },
      "execution_count": null,
      "outputs": [
        {
          "output_type": "execute_result",
          "data": {
            "text/plain": [
              "22"
            ]
          },
          "metadata": {},
          "execution_count": 64
        }
      ]
    },
    {
      "cell_type": "code",
      "source": [
        "sum(p for (year, p) in max_page_by_year) / 6 * 146 / 1024"
      ],
      "metadata": {
        "colab": {
          "base_uri": "https://localhost:8080/"
        },
        "id": "kh0CNcTFs8lb",
        "outputId": "64be1152-16a4-4f49-9621-e6d513b11932"
      },
      "execution_count": null,
      "outputs": [
        {
          "output_type": "execute_result",
          "data": {
            "text/plain": [
              "15.564778645833334"
            ]
          },
          "metadata": {},
          "execution_count": 34
        }
      ]
    }
  ]
}